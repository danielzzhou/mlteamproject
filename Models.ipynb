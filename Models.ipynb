{
 "cells": [
  {
   "cell_type": "code",
   "execution_count": 1,
   "metadata": {},
   "outputs": [],
   "source": [
    "import numpy as np\n",
    "import pandas as pd\n",
    "import matplotlib.pyplot as plt\n",
    "import seaborn\n",
    "plt.style.use(\"ggplot\")"
   ]
  },
  {
   "cell_type": "code",
   "execution_count": 2,
   "metadata": {},
   "outputs": [],
   "source": [
    "from sklearn.linear_model import LinearRegression\n",
    "from sklearn.ensemble import RandomForestClassifier"
   ]
  },
  {
   "cell_type": "markdown",
   "metadata": {},
   "source": [
    "# Preprocessing"
   ]
  },
  {
   "cell_type": "code",
   "execution_count": 3,
   "metadata": {},
   "outputs": [],
   "source": [
    "data_raw = pd.read_csv(\"monthlyupdated.csv\")\n",
    "y_raw = pd.read_csv(\"y.csv\")"
   ]
  },
  {
   "cell_type": "code",
   "execution_count": 4,
   "metadata": {},
   "outputs": [
    {
     "data": {
      "text/html": [
       "<div>\n",
       "<style scoped>\n",
       "    .dataframe tbody tr th:only-of-type {\n",
       "        vertical-align: middle;\n",
       "    }\n",
       "\n",
       "    .dataframe tbody tr th {\n",
       "        vertical-align: top;\n",
       "    }\n",
       "\n",
       "    .dataframe thead th {\n",
       "        text-align: right;\n",
       "    }\n",
       "</style>\n",
       "<table border=\"1\" class=\"dataframe\">\n",
       "  <thead>\n",
       "    <tr style=\"text-align: right;\">\n",
       "      <th></th>\n",
       "      <th>date</th>\n",
       "      <th>TICKER</th>\n",
       "      <th>Y</th>\n",
       "    </tr>\n",
       "  </thead>\n",
       "  <tbody>\n",
       "    <tr>\n",
       "      <td>0</td>\n",
       "      <td>20150831</td>\n",
       "      <td>CPGX</td>\n",
       "      <td>1</td>\n",
       "    </tr>\n",
       "    <tr>\n",
       "      <td>1</td>\n",
       "      <td>20150831</td>\n",
       "      <td>CPB</td>\n",
       "      <td>0</td>\n",
       "    </tr>\n",
       "    <tr>\n",
       "      <td>2</td>\n",
       "      <td>20150831</td>\n",
       "      <td>K</td>\n",
       "      <td>0</td>\n",
       "    </tr>\n",
       "    <tr>\n",
       "      <td>3</td>\n",
       "      <td>20150831</td>\n",
       "      <td>DUK</td>\n",
       "      <td>0</td>\n",
       "    </tr>\n",
       "    <tr>\n",
       "      <td>4</td>\n",
       "      <td>20150831</td>\n",
       "      <td>IPG</td>\n",
       "      <td>1</td>\n",
       "    </tr>\n",
       "  </tbody>\n",
       "</table>\n",
       "</div>"
      ],
      "text/plain": [
       "       date TICKER  Y\n",
       "0  20150831   CPGX  1\n",
       "1  20150831    CPB  0\n",
       "2  20150831      K  0\n",
       "3  20150831    DUK  0\n",
       "4  20150831    IPG  1"
      ]
     },
     "execution_count": 4,
     "metadata": {},
     "output_type": "execute_result"
    }
   ],
   "source": [
    "y_raw.head()"
   ]
  },
  {
   "cell_type": "code",
   "execution_count": 5,
   "metadata": {},
   "outputs": [
    {
     "data": {
      "text/html": [
       "<div>\n",
       "<style scoped>\n",
       "    .dataframe tbody tr th:only-of-type {\n",
       "        vertical-align: middle;\n",
       "    }\n",
       "\n",
       "    .dataframe tbody tr th {\n",
       "        vertical-align: top;\n",
       "    }\n",
       "\n",
       "    .dataframe thead th {\n",
       "        text-align: right;\n",
       "    }\n",
       "</style>\n",
       "<table border=\"1\" class=\"dataframe\">\n",
       "  <thead>\n",
       "    <tr style=\"text-align: right;\">\n",
       "      <th></th>\n",
       "      <th>PERMNO</th>\n",
       "      <th>date</th>\n",
       "      <th>SHRCD</th>\n",
       "      <th>TICKER</th>\n",
       "      <th>COMNAM</th>\n",
       "      <th>CUSIP</th>\n",
       "      <th>PRC</th>\n",
       "      <th>RET</th>\n",
       "      <th>RETX</th>\n",
       "    </tr>\n",
       "  </thead>\n",
       "  <tbody>\n",
       "    <tr>\n",
       "      <td>0</td>\n",
       "      <td>15404</td>\n",
       "      <td>20150630</td>\n",
       "      <td>NaN</td>\n",
       "      <td>NaN</td>\n",
       "      <td>NaN</td>\n",
       "      <td>19828010</td>\n",
       "      <td>NaN</td>\n",
       "      <td>NaN</td>\n",
       "      <td>NaN</td>\n",
       "    </tr>\n",
       "    <tr>\n",
       "      <td>1</td>\n",
       "      <td>15404</td>\n",
       "      <td>20150731</td>\n",
       "      <td>11.0</td>\n",
       "      <td>CPGX</td>\n",
       "      <td>COLUMBIA PIPELINE GROUP INC</td>\n",
       "      <td>19828010</td>\n",
       "      <td>29.18</td>\n",
       "      <td>C</td>\n",
       "      <td>C</td>\n",
       "    </tr>\n",
       "    <tr>\n",
       "      <td>2</td>\n",
       "      <td>15404</td>\n",
       "      <td>20150831</td>\n",
       "      <td>11.0</td>\n",
       "      <td>CPGX</td>\n",
       "      <td>COLUMBIA PIPELINE GROUP INC</td>\n",
       "      <td>19828010</td>\n",
       "      <td>25.36</td>\n",
       "      <td>-0.130912</td>\n",
       "      <td>-0.130912</td>\n",
       "    </tr>\n",
       "    <tr>\n",
       "      <td>3</td>\n",
       "      <td>15404</td>\n",
       "      <td>20150930</td>\n",
       "      <td>11.0</td>\n",
       "      <td>CPGX</td>\n",
       "      <td>COLUMBIA PIPELINE GROUP INC</td>\n",
       "      <td>19828010</td>\n",
       "      <td>18.29</td>\n",
       "      <td>-0.278785</td>\n",
       "      <td>-0.278785</td>\n",
       "    </tr>\n",
       "    <tr>\n",
       "      <td>4</td>\n",
       "      <td>15404</td>\n",
       "      <td>20151030</td>\n",
       "      <td>11.0</td>\n",
       "      <td>CPGX</td>\n",
       "      <td>COLUMBIA PIPELINE GROUP INC</td>\n",
       "      <td>19828010</td>\n",
       "      <td>20.77</td>\n",
       "      <td>0.142428</td>\n",
       "      <td>0.135593</td>\n",
       "    </tr>\n",
       "  </tbody>\n",
       "</table>\n",
       "</div>"
      ],
      "text/plain": [
       "   PERMNO      date  SHRCD TICKER                       COMNAM     CUSIP  \\\n",
       "0   15404  20150630    NaN    NaN                          NaN  19828010   \n",
       "1   15404  20150731   11.0   CPGX  COLUMBIA PIPELINE GROUP INC  19828010   \n",
       "2   15404  20150831   11.0   CPGX  COLUMBIA PIPELINE GROUP INC  19828010   \n",
       "3   15404  20150930   11.0   CPGX  COLUMBIA PIPELINE GROUP INC  19828010   \n",
       "4   15404  20151030   11.0   CPGX  COLUMBIA PIPELINE GROUP INC  19828010   \n",
       "\n",
       "     PRC        RET       RETX  \n",
       "0    NaN        NaN        NaN  \n",
       "1  29.18          C          C  \n",
       "2  25.36  -0.130912  -0.130912  \n",
       "3  18.29  -0.278785  -0.278785  \n",
       "4  20.77   0.142428   0.135593  "
      ]
     },
     "execution_count": 5,
     "metadata": {},
     "output_type": "execute_result"
    }
   ],
   "source": [
    "data_raw.head()"
   ]
  },
  {
   "cell_type": "code",
   "execution_count": 6,
   "metadata": {},
   "outputs": [],
   "source": [
    "if not isinstance(data_raw['date'][0], str):\n",
    "    data_raw[\"date\"] = data_raw[\"date\"].apply(lambda x: str(x)[:4]+'-'+str(x)[4:6]+'-'+str(x)[6:])\n",
    "data_raw[\"dateDT\"] = pd.to_datetime(data_raw[\"date\"])\n",
    "\n",
    "if not isinstance(y_raw['date'][0], str):\n",
    "    y_raw[\"date\"] = y_raw[\"date\"].apply(lambda x: str(x)[:4]+'-'+str(x)[4:6]+'-'+str(x)[6:])\n",
    "y_raw[\"dateDT\"] = pd.to_datetime(y_raw[\"date\"])"
   ]
  },
  {
   "cell_type": "code",
   "execution_count": 7,
   "metadata": {},
   "outputs": [],
   "source": [
    "data_raw = data_raw.sort_values(by=[\"dateDT\", \"TICKER\"])\n",
    "data_raw.index = range(data_raw.shape[0])"
   ]
  },
  {
   "cell_type": "code",
   "execution_count": 8,
   "metadata": {},
   "outputs": [],
   "source": [
    "y_raw = y_raw.sort_values(by=[\"dateDT\", \"TICKER\"])\n",
    "y_raw.index = range(y_raw.shape[0])"
   ]
  },
  {
   "cell_type": "code",
   "execution_count": 9,
   "metadata": {},
   "outputs": [],
   "source": [
    "data_raw[\"id\"] = data_raw.index"
   ]
  },
  {
   "cell_type": "code",
   "execution_count": 10,
   "metadata": {},
   "outputs": [],
   "source": [
    "# split train, val, test\n",
    "train_val_split = int(data_raw.shape[0]*0.4)\n",
    "val_test_split = int(data_raw.shape[0]*0.6)\n",
    "data_train = data_raw.loc[data_raw[\"dateDT\"] <= data_raw[\"dateDT\"][train_val_split]]\n",
    "train_cut = data_train.shape[0]\n",
    "data_val = data_raw.iloc[train_cut:].loc[data_raw[\"dateDT\"] <= data_raw[\"dateDT\"][val_test_split]]\n",
    "val_cut = train_cut + data_val.shape[0]\n",
    "data_test = data_raw.iloc[val_cut:]"
   ]
  },
  {
   "cell_type": "code",
   "execution_count": 11,
   "metadata": {},
   "outputs": [],
   "source": [
    "y_train = y_raw.iloc[:train_cut]\n",
    "y_val = y_raw.iloc[train_cut:val_cut]\n",
    "y_test = y_raw.iloc[val_cut:]"
   ]
  },
  {
   "cell_type": "code",
   "execution_count": 12,
   "metadata": {},
   "outputs": [],
   "source": [
    "feature_all = ['PRC', 'VOL', 'RET']"
   ]
  },
  {
   "cell_type": "markdown",
   "metadata": {},
   "source": [
    "Use the following\n",
    "\n",
    "`data_train`, `y_train`\n",
    "\n",
    "`data_val`, `y_val`\n",
    "\n",
    "`data_test`, `y_test`"
   ]
  },
  {
   "cell_type": "markdown",
   "metadata": {},
   "source": [
    "# Descriptive Analysis"
   ]
  },
  {
   "cell_type": "code",
   "execution_count": 13,
   "metadata": {},
   "outputs": [
    {
     "data": {
      "text/plain": [
       "(7423, 4)"
      ]
     },
     "execution_count": 13,
     "metadata": {},
     "output_type": "execute_result"
    }
   ],
   "source": [
    "y_raw.shape"
   ]
  },
  {
   "cell_type": "code",
   "execution_count": 14,
   "metadata": {},
   "outputs": [
    {
     "data": {
      "text/plain": [
       "(7461, 11)"
      ]
     },
     "execution_count": 14,
     "metadata": {},
     "output_type": "execute_result"
    }
   ],
   "source": [
    "data_raw.shape"
   ]
  },
  {
   "cell_type": "code",
   "execution_count": null,
   "metadata": {},
   "outputs": [],
   "source": []
  },
  {
   "cell_type": "code",
   "execution_count": null,
   "metadata": {},
   "outputs": [],
   "source": []
  },
  {
   "cell_type": "code",
   "execution_count": null,
   "metadata": {},
   "outputs": [],
   "source": []
  },
  {
   "cell_type": "markdown",
   "metadata": {},
   "source": [
    "# Basic Models"
   ]
  },
  {
   "cell_type": "code",
   "execution_count": null,
   "metadata": {},
   "outputs": [],
   "source": []
  }
 ],
 "metadata": {
  "kernelspec": {
   "display_name": "Python 3",
   "language": "python",
   "name": "python3"
  },
  "language_info": {
   "codemirror_mode": {
    "name": "ipython",
    "version": 3
   },
   "file_extension": ".py",
   "mimetype": "text/x-python",
   "name": "python",
   "nbconvert_exporter": "python",
   "pygments_lexer": "ipython3",
   "version": "3.7.4"
  }
 },
 "nbformat": 4,
 "nbformat_minor": 2
}
