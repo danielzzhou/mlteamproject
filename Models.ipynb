{
 "cells": [
  {
   "cell_type": "code",
   "execution_count": 1,
   "metadata": {},
   "outputs": [],
   "source": [
    "import numpy as np\n",
    "import pandas as pd\n",
    "import matplotlib.pyplot as plt\n",
    "import seaborn\n",
    "plt.style.use(\"ggplot\")"
   ]
  },
  {
   "cell_type": "code",
   "execution_count": 2,
   "metadata": {},
   "outputs": [],
   "source": [
    "from sklearn.linear_model import LinearRegression\n",
    "from sklearn.ensemble import RandomForestClassifier"
   ]
  },
  {
   "cell_type": "markdown",
   "metadata": {},
   "source": [
    "# Preprocessing"
   ]
  },
  {
   "cell_type": "code",
   "execution_count": 3,
   "metadata": {},
   "outputs": [],
   "source": [
    "data_raw = pd.read_csv(\"monthly.csv\")\n",
    "y_raw = pd.read_csv(\"y.csv\")"
   ]
  },
  {
   "cell_type": "code",
   "execution_count": 17,
   "metadata": {},
   "outputs": [
    {
     "data": {
      "text/html": [
       "<div>\n",
       "<style scoped>\n",
       "    .dataframe tbody tr th:only-of-type {\n",
       "        vertical-align: middle;\n",
       "    }\n",
       "\n",
       "    .dataframe tbody tr th {\n",
       "        vertical-align: top;\n",
       "    }\n",
       "\n",
       "    .dataframe thead th {\n",
       "        text-align: right;\n",
       "    }\n",
       "</style>\n",
       "<table border=\"1\" class=\"dataframe\">\n",
       "  <thead>\n",
       "    <tr style=\"text-align: right;\">\n",
       "      <th></th>\n",
       "      <th>date</th>\n",
       "      <th>TICKER</th>\n",
       "      <th>Y</th>\n",
       "      <th>dateDT</th>\n",
       "      <th>year</th>\n",
       "    </tr>\n",
       "  </thead>\n",
       "  <tbody>\n",
       "    <tr>\n",
       "      <td>0</td>\n",
       "      <td>1965-01-29</td>\n",
       "      <td>A</td>\n",
       "      <td>0</td>\n",
       "      <td>1965-01-29</td>\n",
       "      <td>1965</td>\n",
       "    </tr>\n",
       "    <tr>\n",
       "      <td>1</td>\n",
       "      <td>1965-01-29</td>\n",
       "      <td>AA</td>\n",
       "      <td>1</td>\n",
       "      <td>1965-01-29</td>\n",
       "      <td>1965</td>\n",
       "    </tr>\n",
       "    <tr>\n",
       "      <td>2</td>\n",
       "      <td>1965-01-29</td>\n",
       "      <td>AAP</td>\n",
       "      <td>0</td>\n",
       "      <td>1965-01-29</td>\n",
       "      <td>1965</td>\n",
       "    </tr>\n",
       "    <tr>\n",
       "      <td>3</td>\n",
       "      <td>1965-01-29</td>\n",
       "      <td>ABC</td>\n",
       "      <td>0</td>\n",
       "      <td>1965-01-29</td>\n",
       "      <td>1965</td>\n",
       "    </tr>\n",
       "    <tr>\n",
       "      <td>4</td>\n",
       "      <td>1965-01-29</td>\n",
       "      <td>ABP</td>\n",
       "      <td>1</td>\n",
       "      <td>1965-01-29</td>\n",
       "      <td>1965</td>\n",
       "    </tr>\n",
       "  </tbody>\n",
       "</table>\n",
       "</div>"
      ],
      "text/plain": [
       "         date TICKER  Y     dateDT  year\n",
       "0  1965-01-29      A  0 1965-01-29  1965\n",
       "1  1965-01-29     AA  1 1965-01-29  1965\n",
       "2  1965-01-29    AAP  0 1965-01-29  1965\n",
       "3  1965-01-29    ABC  0 1965-01-29  1965\n",
       "4  1965-01-29    ABP  1 1965-01-29  1965"
      ]
     },
     "execution_count": 17,
     "metadata": {},
     "output_type": "execute_result"
    }
   ],
   "source": [
    "y_raw.head()"
   ]
  },
  {
   "cell_type": "code",
   "execution_count": 33,
   "metadata": {},
   "outputs": [
    {
     "data": {
      "text/html": [
       "<div>\n",
       "<style scoped>\n",
       "    .dataframe tbody tr th:only-of-type {\n",
       "        vertical-align: middle;\n",
       "    }\n",
       "\n",
       "    .dataframe tbody tr th {\n",
       "        vertical-align: top;\n",
       "    }\n",
       "\n",
       "    .dataframe thead th {\n",
       "        text-align: right;\n",
       "    }\n",
       "</style>\n",
       "<table border=\"1\" class=\"dataframe\">\n",
       "  <thead>\n",
       "    <tr style=\"text-align: right;\">\n",
       "      <th></th>\n",
       "      <th>PERMNO</th>\n",
       "      <th>date</th>\n",
       "      <th>SHRCD</th>\n",
       "      <th>TICKER</th>\n",
       "      <th>COMNAM</th>\n",
       "      <th>PRC</th>\n",
       "      <th>VOL</th>\n",
       "      <th>RET</th>\n",
       "      <th>RETX</th>\n",
       "      <th>dateDT</th>\n",
       "      <th>year</th>\n",
       "      <th>id</th>\n",
       "    </tr>\n",
       "  </thead>\n",
       "  <tbody>\n",
       "    <tr>\n",
       "      <td>0</td>\n",
       "      <td>10495</td>\n",
       "      <td>1965-01-29</td>\n",
       "      <td>10.0</td>\n",
       "      <td>A</td>\n",
       "      <td>ANACONDA CO</td>\n",
       "      <td>60.500</td>\n",
       "      <td>4337.0</td>\n",
       "      <td>0.157895</td>\n",
       "      <td>0.157895</td>\n",
       "      <td>1965-01-29</td>\n",
       "      <td>1965</td>\n",
       "      <td>0</td>\n",
       "    </tr>\n",
       "    <tr>\n",
       "      <td>1</td>\n",
       "      <td>24643</td>\n",
       "      <td>1965-01-29</td>\n",
       "      <td>11.0</td>\n",
       "      <td>AA</td>\n",
       "      <td>ALUMINUM COMPANY AMER</td>\n",
       "      <td>62.500</td>\n",
       "      <td>1849.0</td>\n",
       "      <td>0.016260</td>\n",
       "      <td>0.016260</td>\n",
       "      <td>1965-01-29</td>\n",
       "      <td>1965</td>\n",
       "      <td>1</td>\n",
       "    </tr>\n",
       "    <tr>\n",
       "      <td>2</td>\n",
       "      <td>28863</td>\n",
       "      <td>1965-01-29</td>\n",
       "      <td>10.0</td>\n",
       "      <td>AAP</td>\n",
       "      <td>ALLIED ARTISTS PICTURES CORP</td>\n",
       "      <td>2.125</td>\n",
       "      <td>436.0</td>\n",
       "      <td>0.133333</td>\n",
       "      <td>0.133333</td>\n",
       "      <td>1965-01-29</td>\n",
       "      <td>1965</td>\n",
       "      <td>2</td>\n",
       "    </tr>\n",
       "    <tr>\n",
       "      <td>3</td>\n",
       "      <td>25101</td>\n",
       "      <td>1965-01-29</td>\n",
       "      <td>10.0</td>\n",
       "      <td>ABC</td>\n",
       "      <td>A B C CONS CORP</td>\n",
       "      <td>19.750</td>\n",
       "      <td>930.0</td>\n",
       "      <td>0.144928</td>\n",
       "      <td>0.144928</td>\n",
       "      <td>1965-01-29</td>\n",
       "      <td>1965</td>\n",
       "      <td>3</td>\n",
       "    </tr>\n",
       "    <tr>\n",
       "      <td>4</td>\n",
       "      <td>10233</td>\n",
       "      <td>1965-01-29</td>\n",
       "      <td>10.0</td>\n",
       "      <td>ABP</td>\n",
       "      <td>AMERICAN BROADCASTING PARAMOUNT</td>\n",
       "      <td>52.500</td>\n",
       "      <td>1390.0</td>\n",
       "      <td>-0.016393</td>\n",
       "      <td>-0.016393</td>\n",
       "      <td>1965-01-29</td>\n",
       "      <td>1965</td>\n",
       "      <td>4</td>\n",
       "    </tr>\n",
       "  </tbody>\n",
       "</table>\n",
       "</div>"
      ],
      "text/plain": [
       "   PERMNO        date  SHRCD TICKER                           COMNAM     PRC  \\\n",
       "0   10495  1965-01-29   10.0      A                      ANACONDA CO  60.500   \n",
       "1   24643  1965-01-29   11.0     AA            ALUMINUM COMPANY AMER  62.500   \n",
       "2   28863  1965-01-29   10.0    AAP     ALLIED ARTISTS PICTURES CORP   2.125   \n",
       "3   25101  1965-01-29   10.0    ABC                  A B C CONS CORP  19.750   \n",
       "4   10233  1965-01-29   10.0    ABP  AMERICAN BROADCASTING PARAMOUNT  52.500   \n",
       "\n",
       "      VOL        RET       RETX     dateDT  year  id  \n",
       "0  4337.0   0.157895   0.157895 1965-01-29  1965   0  \n",
       "1  1849.0   0.016260   0.016260 1965-01-29  1965   1  \n",
       "2   436.0   0.133333   0.133333 1965-01-29  1965   2  \n",
       "3   930.0   0.144928   0.144928 1965-01-29  1965   3  \n",
       "4  1390.0  -0.016393  -0.016393 1965-01-29  1965   4  "
      ]
     },
     "execution_count": 33,
     "metadata": {},
     "output_type": "execute_result"
    }
   ],
   "source": [
    "data_raw.head()"
   ]
  },
  {
   "cell_type": "code",
   "execution_count": 6,
   "metadata": {},
   "outputs": [],
   "source": [
    "if not isinstance(data_raw['date'][0], str):\n",
    "    data_raw[\"date\"] = data_raw[\"date\"].apply(lambda x: str(x)[:4]+'-'+str(x)[4:6]+'-'+str(x)[6:])\n",
    "data_raw[\"dateDT\"] = pd.to_datetime(data_raw[\"date\"])\n",
    "data_raw[\"year\"] = [_.year for _ in data_raw[\"dateDT\"]]\n",
    "\n",
    "if not isinstance(y_raw['date'][0], str):\n",
    "    y_raw[\"date\"] = y_raw[\"date\"].apply(lambda x: str(x)[:4]+'-'+str(x)[4:6]+'-'+str(x)[6:])\n",
    "y_raw[\"dateDT\"] = pd.to_datetime(y_raw[\"date\"])\n",
    "y_raw[\"year\"] = [_.year for _ in y_raw[\"dateDT\"]]"
   ]
  },
  {
   "cell_type": "code",
   "execution_count": 7,
   "metadata": {},
   "outputs": [],
   "source": [
    "data_raw = data_raw.sort_values(by=[\"dateDT\", \"TICKER\"])\n",
    "data_raw.index = range(data_raw.shape[0])"
   ]
  },
  {
   "cell_type": "code",
   "execution_count": 8,
   "metadata": {},
   "outputs": [],
   "source": [
    "y_raw = y_raw.sort_values(by=[\"dateDT\", \"TICKER\"])\n",
    "y_raw.index = range(y_raw.shape[0])"
   ]
  },
  {
   "cell_type": "code",
   "execution_count": 32,
   "metadata": {},
   "outputs": [],
   "source": [
    "data_raw[\"id\"] = data_raw.index"
   ]
  },
  {
   "cell_type": "code",
   "execution_count": 34,
   "metadata": {},
   "outputs": [],
   "source": [
    "# split train, val, test\n",
    "train_val_split = int(data_raw.shape[0]*0.4)\n",
    "val_test_split = int(data_raw.shape[0]*0.6)\n",
    "data_train = data_raw.loc[data_raw[\"dateDT\"] <= data_raw[\"dateDT\"][train_val_split]]\n",
    "train_cut = data_train.shape[0]\n",
    "data_val = data_raw.iloc[train_cut:].loc[data_raw[\"dateDT\"] <= data_raw[\"dateDT\"][val_test_split]]\n",
    "val_cut = train_cut + data_val.shape[0]\n",
    "data_test = data_raw.iloc[val_cut:]"
   ]
  },
  {
   "cell_type": "code",
   "execution_count": 35,
   "metadata": {},
   "outputs": [],
   "source": [
    "y_train = y_raw.iloc[:train_cut]\n",
    "y_val = y_raw.iloc[train_cut:val_cut]\n",
    "y_test = y_raw.iloc[val_cut:]"
   ]
  },
  {
   "cell_type": "markdown",
   "metadata": {},
   "source": [
    "# Descriptive Analysis"
   ]
  },
  {
   "cell_type": "code",
   "execution_count": null,
   "metadata": {},
   "outputs": [],
   "source": []
  },
  {
   "cell_type": "code",
   "execution_count": null,
   "metadata": {},
   "outputs": [],
   "source": []
  },
  {
   "cell_type": "code",
   "execution_count": null,
   "metadata": {},
   "outputs": [],
   "source": []
  },
  {
   "cell_type": "code",
   "execution_count": null,
   "metadata": {},
   "outputs": [],
   "source": []
  },
  {
   "cell_type": "code",
   "execution_count": null,
   "metadata": {},
   "outputs": [],
   "source": []
  },
  {
   "cell_type": "markdown",
   "metadata": {},
   "source": [
    "# Basic Models"
   ]
  },
  {
   "cell_type": "code",
   "execution_count": null,
   "metadata": {},
   "outputs": [],
   "source": []
  }
 ],
 "metadata": {
  "kernelspec": {
   "display_name": "Python 3",
   "language": "python",
   "name": "python3"
  },
  "language_info": {
   "codemirror_mode": {
    "name": "ipython",
    "version": 3
   },
   "file_extension": ".py",
   "mimetype": "text/x-python",
   "name": "python",
   "nbconvert_exporter": "python",
   "pygments_lexer": "ipython3",
   "version": "3.7.4"
  }
 },
 "nbformat": 4,
 "nbformat_minor": 2
}
