{
 "cells": [
  {
   "cell_type": "code",
   "execution_count": 1,
   "metadata": {},
   "outputs": [],
   "source": [
    "import pandas as pd\n",
    "import numpy as np"
   ]
  },
  {
   "cell_type": "code",
   "execution_count": 2,
   "metadata": {},
   "outputs": [],
   "source": [
    "monthly = pd.read_csv(\"monthly.csv\")"
   ]
  },
  {
   "cell_type": "code",
   "execution_count": 30,
   "metadata": {},
   "outputs": [],
   "source": [
    "monthly['RET']=pd.to_numeric(monthly.iloc[np.where((monthly['RET']!='C')&(monthly['RET']!='B'))[0],:]['RET'])"
   ]
  },
  {
   "cell_type": "code",
   "execution_count": 41,
   "metadata": {},
   "outputs": [
    {
     "data": {
      "text/html": [
       "<div>\n",
       "<style scoped>\n",
       "    .dataframe tbody tr th:only-of-type {\n",
       "        vertical-align: middle;\n",
       "    }\n",
       "\n",
       "    .dataframe tbody tr th {\n",
       "        vertical-align: top;\n",
       "    }\n",
       "\n",
       "    .dataframe thead th {\n",
       "        text-align: right;\n",
       "    }\n",
       "</style>\n",
       "<table border=\"1\" class=\"dataframe\">\n",
       "  <thead>\n",
       "    <tr style=\"text-align: right;\">\n",
       "      <th></th>\n",
       "      <th>PERMNO</th>\n",
       "      <th>date</th>\n",
       "      <th>SHRCD</th>\n",
       "      <th>TICKER</th>\n",
       "      <th>COMNAM</th>\n",
       "      <th>PRC</th>\n",
       "      <th>VOL</th>\n",
       "      <th>RET</th>\n",
       "      <th>RETX</th>\n",
       "    </tr>\n",
       "  </thead>\n",
       "  <tbody>\n",
       "    <tr>\n",
       "      <th>0</th>\n",
       "      <td>10057</td>\n",
       "      <td>19650129</td>\n",
       "      <td>11.0</td>\n",
       "      <td>NCM</td>\n",
       "      <td>NATIONAL ACME CO</td>\n",
       "      <td>71.75</td>\n",
       "      <td>110.0</td>\n",
       "      <td>0.039855</td>\n",
       "      <td>0.039855</td>\n",
       "    </tr>\n",
       "    <tr>\n",
       "      <th>1</th>\n",
       "      <td>10057</td>\n",
       "      <td>19650226</td>\n",
       "      <td>11.0</td>\n",
       "      <td>NCM</td>\n",
       "      <td>NATIONAL ACME CO</td>\n",
       "      <td>71.25</td>\n",
       "      <td>82.0</td>\n",
       "      <td>0.001742</td>\n",
       "      <td>-0.006969</td>\n",
       "    </tr>\n",
       "    <tr>\n",
       "      <th>2</th>\n",
       "      <td>10057</td>\n",
       "      <td>19650331</td>\n",
       "      <td>11.0</td>\n",
       "      <td>NCM</td>\n",
       "      <td>NATIONAL ACME CO</td>\n",
       "      <td>76.00</td>\n",
       "      <td>243.0</td>\n",
       "      <td>0.066667</td>\n",
       "      <td>0.066667</td>\n",
       "    </tr>\n",
       "    <tr>\n",
       "      <th>3</th>\n",
       "      <td>10057</td>\n",
       "      <td>19650430</td>\n",
       "      <td>11.0</td>\n",
       "      <td>NCM</td>\n",
       "      <td>NATIONAL ACME CO</td>\n",
       "      <td>39.50</td>\n",
       "      <td>152.0</td>\n",
       "      <td>0.039474</td>\n",
       "      <td>0.039474</td>\n",
       "    </tr>\n",
       "    <tr>\n",
       "      <th>4</th>\n",
       "      <td>10057</td>\n",
       "      <td>19650528</td>\n",
       "      <td>11.0</td>\n",
       "      <td>NCM</td>\n",
       "      <td>NATIONAL ACME CO</td>\n",
       "      <td>37.00</td>\n",
       "      <td>256.0</td>\n",
       "      <td>-0.054430</td>\n",
       "      <td>-0.063291</td>\n",
       "    </tr>\n",
       "  </tbody>\n",
       "</table>\n",
       "</div>"
      ],
      "text/plain": [
       "   PERMNO      date  SHRCD TICKER            COMNAM    PRC    VOL       RET  \\\n",
       "0   10057  19650129   11.0    NCM  NATIONAL ACME CO  71.75  110.0  0.039855   \n",
       "1   10057  19650226   11.0    NCM  NATIONAL ACME CO  71.25   82.0  0.001742   \n",
       "2   10057  19650331   11.0    NCM  NATIONAL ACME CO  76.00  243.0  0.066667   \n",
       "3   10057  19650430   11.0    NCM  NATIONAL ACME CO  39.50  152.0  0.039474   \n",
       "4   10057  19650528   11.0    NCM  NATIONAL ACME CO  37.00  256.0 -0.054430   \n",
       "\n",
       "        RETX  \n",
       "0   0.039855  \n",
       "1  -0.006969  \n",
       "2   0.066667  \n",
       "3   0.039474  \n",
       "4  -0.063291  "
      ]
     },
     "execution_count": 41,
     "metadata": {},
     "output_type": "execute_result"
    }
   ],
   "source": [
    "monthly.head()"
   ]
  },
  {
   "cell_type": "code",
   "execution_count": 56,
   "metadata": {},
   "outputs": [],
   "source": [
    "def ifabove(row):\n",
    "    return int(row['MedianRet']>row['RET_x'])"
   ]
  },
  {
   "cell_type": "code",
   "execution_count": 62,
   "metadata": {},
   "outputs": [],
   "source": [
    "medianret=monthly.groupby('date').median()['RET']\n",
    "monthly1=monthly.merge(medianret,on=\"date\")\n",
    "monthly1['MedianRet']=monthly1['RET_y']\n",
    "monthly1['Y'] = monthly1.apply(lambda row: ifabove(row),axis=1)\n",
    "monthly1.index=monthly1['date']"
   ]
  },
  {
   "cell_type": "code",
   "execution_count": 63,
   "metadata": {},
   "outputs": [],
   "source": [
    "y = monthly1[['TICKER','Y']]"
   ]
  },
  {
   "cell_type": "code",
   "execution_count": 65,
   "metadata": {},
   "outputs": [],
   "source": [
    "y.to_csv('y.csv')"
   ]
  },
  {
   "cell_type": "code",
   "execution_count": null,
   "metadata": {},
   "outputs": [],
   "source": []
  }
 ],
 "metadata": {
  "kernelspec": {
   "display_name": "Python 3",
   "language": "python",
   "name": "python3"
  },
  "language_info": {
   "codemirror_mode": {
    "name": "ipython",
    "version": 3
   },
   "file_extension": ".py",
   "mimetype": "text/x-python",
   "name": "python",
   "nbconvert_exporter": "python",
   "pygments_lexer": "ipython3",
   "version": "3.7.3"
  }
 },
 "nbformat": 4,
 "nbformat_minor": 2
}
