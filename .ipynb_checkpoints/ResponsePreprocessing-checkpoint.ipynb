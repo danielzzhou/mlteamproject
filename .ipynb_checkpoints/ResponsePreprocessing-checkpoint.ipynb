{
 "cells": [
  {
   "cell_type": "code",
   "execution_count": 1,
   "metadata": {},
   "outputs": [],
   "source": [
    "import pandas as pd\n",
    "import numpy as np"
   ]
  },
  {
   "cell_type": "code",
   "execution_count": 84,
   "metadata": {},
   "outputs": [],
   "source": [
    "monthly = pd.read_csv(\"monthlyupdated.csv\")"
   ]
  },
  {
   "cell_type": "code",
   "execution_count": 85,
   "metadata": {},
   "outputs": [],
   "source": [
    "monthly['RET']=pd.to_numeric(monthly.iloc[np.where((monthly['RET']!='C')&(monthly['RET']!='B'))[0],:]['RET'])"
   ]
  },
  {
   "cell_type": "code",
   "execution_count": 86,
   "metadata": {},
   "outputs": [
    {
     "data": {
      "text/html": [
       "<div>\n",
       "<style scoped>\n",
       "    .dataframe tbody tr th:only-of-type {\n",
       "        vertical-align: middle;\n",
       "    }\n",
       "\n",
       "    .dataframe tbody tr th {\n",
       "        vertical-align: top;\n",
       "    }\n",
       "\n",
       "    .dataframe thead th {\n",
       "        text-align: right;\n",
       "    }\n",
       "</style>\n",
       "<table border=\"1\" class=\"dataframe\">\n",
       "  <thead>\n",
       "    <tr style=\"text-align: right;\">\n",
       "      <th></th>\n",
       "      <th>PERMNO</th>\n",
       "      <th>date</th>\n",
       "      <th>SHRCD</th>\n",
       "      <th>TICKER</th>\n",
       "      <th>COMNAM</th>\n",
       "      <th>CUSIP</th>\n",
       "      <th>PRC</th>\n",
       "      <th>RET</th>\n",
       "      <th>RETX</th>\n",
       "    </tr>\n",
       "  </thead>\n",
       "  <tbody>\n",
       "    <tr>\n",
       "      <th>0</th>\n",
       "      <td>15404</td>\n",
       "      <td>20150630</td>\n",
       "      <td>NaN</td>\n",
       "      <td>NaN</td>\n",
       "      <td>NaN</td>\n",
       "      <td>19828010</td>\n",
       "      <td>NaN</td>\n",
       "      <td>NaN</td>\n",
       "      <td>NaN</td>\n",
       "    </tr>\n",
       "    <tr>\n",
       "      <th>1</th>\n",
       "      <td>15404</td>\n",
       "      <td>20150731</td>\n",
       "      <td>11.0</td>\n",
       "      <td>CPGX</td>\n",
       "      <td>COLUMBIA PIPELINE GROUP INC</td>\n",
       "      <td>19828010</td>\n",
       "      <td>29.18</td>\n",
       "      <td>NaN</td>\n",
       "      <td>C</td>\n",
       "    </tr>\n",
       "    <tr>\n",
       "      <th>2</th>\n",
       "      <td>15404</td>\n",
       "      <td>20150831</td>\n",
       "      <td>11.0</td>\n",
       "      <td>CPGX</td>\n",
       "      <td>COLUMBIA PIPELINE GROUP INC</td>\n",
       "      <td>19828010</td>\n",
       "      <td>25.36</td>\n",
       "      <td>-0.130912</td>\n",
       "      <td>-0.130912</td>\n",
       "    </tr>\n",
       "    <tr>\n",
       "      <th>3</th>\n",
       "      <td>15404</td>\n",
       "      <td>20150930</td>\n",
       "      <td>11.0</td>\n",
       "      <td>CPGX</td>\n",
       "      <td>COLUMBIA PIPELINE GROUP INC</td>\n",
       "      <td>19828010</td>\n",
       "      <td>18.29</td>\n",
       "      <td>-0.278785</td>\n",
       "      <td>-0.278785</td>\n",
       "    </tr>\n",
       "    <tr>\n",
       "      <th>4</th>\n",
       "      <td>15404</td>\n",
       "      <td>20151030</td>\n",
       "      <td>11.0</td>\n",
       "      <td>CPGX</td>\n",
       "      <td>COLUMBIA PIPELINE GROUP INC</td>\n",
       "      <td>19828010</td>\n",
       "      <td>20.77</td>\n",
       "      <td>0.142428</td>\n",
       "      <td>0.135593</td>\n",
       "    </tr>\n",
       "  </tbody>\n",
       "</table>\n",
       "</div>"
      ],
      "text/plain": [
       "   PERMNO      date  SHRCD TICKER                       COMNAM     CUSIP  \\\n",
       "0   15404  20150630    NaN    NaN                          NaN  19828010   \n",
       "1   15404  20150731   11.0   CPGX  COLUMBIA PIPELINE GROUP INC  19828010   \n",
       "2   15404  20150831   11.0   CPGX  COLUMBIA PIPELINE GROUP INC  19828010   \n",
       "3   15404  20150930   11.0   CPGX  COLUMBIA PIPELINE GROUP INC  19828010   \n",
       "4   15404  20151030   11.0   CPGX  COLUMBIA PIPELINE GROUP INC  19828010   \n",
       "\n",
       "     PRC       RET       RETX  \n",
       "0    NaN       NaN        NaN  \n",
       "1  29.18       NaN          C  \n",
       "2  25.36 -0.130912  -0.130912  \n",
       "3  18.29 -0.278785  -0.278785  \n",
       "4  20.77  0.142428   0.135593  "
      ]
     },
     "execution_count": 86,
     "metadata": {},
     "output_type": "execute_result"
    }
   ],
   "source": [
    "monthly.head()"
   ]
  },
  {
   "cell_type": "code",
   "execution_count": 87,
   "metadata": {},
   "outputs": [],
   "source": [
    "monthly=monthly.dropna(subset=['TICKER','RET'])"
   ]
  },
  {
   "cell_type": "code",
   "execution_count": 89,
   "metadata": {},
   "outputs": [],
   "source": [
    "def ifabove(row):\n",
    "    return int(row['MedianRet']>row['RET_x'])"
   ]
  },
  {
   "cell_type": "code",
   "execution_count": 90,
   "metadata": {},
   "outputs": [],
   "source": [
    "medianret=monthly.groupby('date').median()['RET']\n",
    "monthly1=monthly.merge(medianret,on=\"date\")\n",
    "monthly1['MedianRet']=monthly1['RET_y']\n",
    "monthly1['Y'] = monthly1.apply(lambda row: ifabove(row),axis=1)\n",
    "monthly1.index=monthly1['date']"
   ]
  },
  {
   "cell_type": "code",
   "execution_count": 91,
   "metadata": {},
   "outputs": [],
   "source": [
    "y = monthly1[['TICKER','Y']]"
   ]
  },
  {
   "cell_type": "code",
   "execution_count": 92,
   "metadata": {},
   "outputs": [],
   "source": [
    "y.to_csv('y.csv')"
   ]
  }
 ],
 "metadata": {
  "kernelspec": {
   "display_name": "Python 3",
   "language": "python",
   "name": "python3"
  },
  "language_info": {
   "codemirror_mode": {
    "name": "ipython",
    "version": 3
   },
   "file_extension": ".py",
   "mimetype": "text/x-python",
   "name": "python",
   "nbconvert_exporter": "python",
   "pygments_lexer": "ipython3",
   "version": "3.7.3"
  }
 },
 "nbformat": 4,
 "nbformat_minor": 2
}
