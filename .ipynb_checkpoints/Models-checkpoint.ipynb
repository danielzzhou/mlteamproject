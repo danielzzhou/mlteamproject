{
 "cells": [
  {
   "cell_type": "code",
   "execution_count": 1,
   "metadata": {},
   "outputs": [],
   "source": [
    "import numpy as np\n",
    "import pandas as pd\n",
    "import matplotlib.pyplot as plt\n",
    "import seaborn\n",
    "plt.style.use(\"ggplot\")"
   ]
  },
  {
   "cell_type": "code",
   "execution_count": 2,
   "metadata": {},
   "outputs": [],
   "source": [
    "from sklearn.linear_model import LinearRegression\n",
    "from sklearn.ensemble import RandomForestClassifier"
   ]
  },
  {
   "cell_type": "markdown",
   "metadata": {},
   "source": [
    "# Preprocessing"
   ]
  },
  {
   "cell_type": "code",
   "execution_count": 3,
   "metadata": {},
   "outputs": [],
   "source": [
    "data_raw = pd.read_csv(\"monthly.csv\")\n",
    "y_raw = pd.read_csv(\"y.csv\")"
   ]
  },
  {
   "cell_type": "code",
   "execution_count": 4,
   "metadata": {},
   "outputs": [
    {
     "data": {
      "text/html": [
       "<div>\n",
       "<style scoped>\n",
       "    .dataframe tbody tr th:only-of-type {\n",
       "        vertical-align: middle;\n",
       "    }\n",
       "\n",
       "    .dataframe tbody tr th {\n",
       "        vertical-align: top;\n",
       "    }\n",
       "\n",
       "    .dataframe thead th {\n",
       "        text-align: right;\n",
       "    }\n",
       "</style>\n",
       "<table border=\"1\" class=\"dataframe\">\n",
       "  <thead>\n",
       "    <tr style=\"text-align: right;\">\n",
       "      <th></th>\n",
       "      <th>date</th>\n",
       "      <th>TICKER</th>\n",
       "      <th>Y</th>\n",
       "    </tr>\n",
       "  </thead>\n",
       "  <tbody>\n",
       "    <tr>\n",
       "      <td>0</td>\n",
       "      <td>19650129</td>\n",
       "      <td>NCM</td>\n",
       "      <td>1</td>\n",
       "    </tr>\n",
       "    <tr>\n",
       "      <td>1</td>\n",
       "      <td>19650129</td>\n",
       "      <td>ACD</td>\n",
       "      <td>0</td>\n",
       "    </tr>\n",
       "    <tr>\n",
       "      <td>2</td>\n",
       "      <td>19650129</td>\n",
       "      <td>ABP</td>\n",
       "      <td>1</td>\n",
       "    </tr>\n",
       "    <tr>\n",
       "      <td>3</td>\n",
       "      <td>19650129</td>\n",
       "      <td>T</td>\n",
       "      <td>1</td>\n",
       "    </tr>\n",
       "    <tr>\n",
       "      <td>4</td>\n",
       "      <td>19650129</td>\n",
       "      <td>AME</td>\n",
       "      <td>1</td>\n",
       "    </tr>\n",
       "  </tbody>\n",
       "</table>\n",
       "</div>"
      ],
      "text/plain": [
       "       date TICKER  Y\n",
       "0  19650129    NCM  1\n",
       "1  19650129    ACD  0\n",
       "2  19650129    ABP  1\n",
       "3  19650129      T  1\n",
       "4  19650129    AME  1"
      ]
     },
     "execution_count": 4,
     "metadata": {},
     "output_type": "execute_result"
    }
   ],
   "source": [
    "y_raw.head()"
   ]
  },
  {
   "cell_type": "code",
   "execution_count": 5,
   "metadata": {},
   "outputs": [
    {
     "data": {
      "text/html": [
       "<div>\n",
       "<style scoped>\n",
       "    .dataframe tbody tr th:only-of-type {\n",
       "        vertical-align: middle;\n",
       "    }\n",
       "\n",
       "    .dataframe tbody tr th {\n",
       "        vertical-align: top;\n",
       "    }\n",
       "\n",
       "    .dataframe thead th {\n",
       "        text-align: right;\n",
       "    }\n",
       "</style>\n",
       "<table border=\"1\" class=\"dataframe\">\n",
       "  <thead>\n",
       "    <tr style=\"text-align: right;\">\n",
       "      <th></th>\n",
       "      <th>PERMNO</th>\n",
       "      <th>date</th>\n",
       "      <th>SHRCD</th>\n",
       "      <th>TICKER</th>\n",
       "      <th>COMNAM</th>\n",
       "      <th>PRC</th>\n",
       "      <th>VOL</th>\n",
       "      <th>RET</th>\n",
       "      <th>RETX</th>\n",
       "    </tr>\n",
       "  </thead>\n",
       "  <tbody>\n",
       "    <tr>\n",
       "      <td>0</td>\n",
       "      <td>10057</td>\n",
       "      <td>19650129</td>\n",
       "      <td>11.0</td>\n",
       "      <td>NCM</td>\n",
       "      <td>NATIONAL ACME CO</td>\n",
       "      <td>71.75</td>\n",
       "      <td>110.0</td>\n",
       "      <td>0.039855</td>\n",
       "      <td>0.039855</td>\n",
       "    </tr>\n",
       "    <tr>\n",
       "      <td>1</td>\n",
       "      <td>10057</td>\n",
       "      <td>19650226</td>\n",
       "      <td>11.0</td>\n",
       "      <td>NCM</td>\n",
       "      <td>NATIONAL ACME CO</td>\n",
       "      <td>71.25</td>\n",
       "      <td>82.0</td>\n",
       "      <td>0.001742</td>\n",
       "      <td>-0.006969</td>\n",
       "    </tr>\n",
       "    <tr>\n",
       "      <td>2</td>\n",
       "      <td>10057</td>\n",
       "      <td>19650331</td>\n",
       "      <td>11.0</td>\n",
       "      <td>NCM</td>\n",
       "      <td>NATIONAL ACME CO</td>\n",
       "      <td>76.00</td>\n",
       "      <td>243.0</td>\n",
       "      <td>0.066667</td>\n",
       "      <td>0.066667</td>\n",
       "    </tr>\n",
       "    <tr>\n",
       "      <td>3</td>\n",
       "      <td>10057</td>\n",
       "      <td>19650430</td>\n",
       "      <td>11.0</td>\n",
       "      <td>NCM</td>\n",
       "      <td>NATIONAL ACME CO</td>\n",
       "      <td>39.50</td>\n",
       "      <td>152.0</td>\n",
       "      <td>0.039474</td>\n",
       "      <td>0.039474</td>\n",
       "    </tr>\n",
       "    <tr>\n",
       "      <td>4</td>\n",
       "      <td>10057</td>\n",
       "      <td>19650528</td>\n",
       "      <td>11.0</td>\n",
       "      <td>NCM</td>\n",
       "      <td>NATIONAL ACME CO</td>\n",
       "      <td>37.00</td>\n",
       "      <td>256.0</td>\n",
       "      <td>-0.054430</td>\n",
       "      <td>-0.063291</td>\n",
       "    </tr>\n",
       "  </tbody>\n",
       "</table>\n",
       "</div>"
      ],
      "text/plain": [
       "   PERMNO      date  SHRCD TICKER            COMNAM    PRC    VOL        RET  \\\n",
       "0   10057  19650129   11.0    NCM  NATIONAL ACME CO  71.75  110.0   0.039855   \n",
       "1   10057  19650226   11.0    NCM  NATIONAL ACME CO  71.25   82.0   0.001742   \n",
       "2   10057  19650331   11.0    NCM  NATIONAL ACME CO  76.00  243.0   0.066667   \n",
       "3   10057  19650430   11.0    NCM  NATIONAL ACME CO  39.50  152.0   0.039474   \n",
       "4   10057  19650528   11.0    NCM  NATIONAL ACME CO  37.00  256.0  -0.054430   \n",
       "\n",
       "        RETX  \n",
       "0   0.039855  \n",
       "1  -0.006969  \n",
       "2   0.066667  \n",
       "3   0.039474  \n",
       "4  -0.063291  "
      ]
     },
     "execution_count": 5,
     "metadata": {},
     "output_type": "execute_result"
    }
   ],
   "source": [
    "data_raw.head()"
   ]
  },
  {
   "cell_type": "code",
   "execution_count": 6,
   "metadata": {},
   "outputs": [],
   "source": [
    "if not isinstance(data_raw['date'][0], str):\n",
    "    data_raw[\"date\"] = data_raw[\"date\"].apply(lambda x: str(x)[:4]+'-'+str(x)[4:6]+'-'+str(x)[6:])\n",
    "data_raw[\"dateDT\"] = pd.to_datetime(data_raw[\"date\"])\n",
    "\n",
    "if not isinstance(y_raw['date'][0], str):\n",
    "    y_raw[\"date\"] = y_raw[\"date\"].apply(lambda x: str(x)[:4]+'-'+str(x)[4:6]+'-'+str(x)[6:])\n",
    "y_raw[\"dateDT\"] = pd.to_datetime(y_raw[\"date\"])"
   ]
  },
  {
   "cell_type": "code",
   "execution_count": 7,
   "metadata": {},
   "outputs": [],
   "source": [
    "data_raw = data_raw.sort_values(by=[\"dateDT\", \"TICKER\"])\n",
    "data_raw.index = range(data_raw.shape[0])"
   ]
  },
  {
   "cell_type": "code",
   "execution_count": 8,
   "metadata": {},
   "outputs": [],
   "source": [
    "y_raw = y_raw.sort_values(by=[\"dateDT\", \"TICKER\"])\n",
    "y_raw.index = range(y_raw.shape[0])"
   ]
  },
  {
   "cell_type": "code",
   "execution_count": 9,
   "metadata": {},
   "outputs": [],
   "source": [
    "data_raw[\"id\"] = data_raw.index"
   ]
  },
  {
   "cell_type": "code",
   "execution_count": 10,
   "metadata": {},
   "outputs": [],
   "source": [
    "# split train, val, test\n",
    "train_val_split = int(data_raw.shape[0]*0.4)\n",
    "val_test_split = int(data_raw.shape[0]*0.6)\n",
    "data_train = data_raw.loc[data_raw[\"dateDT\"] <= data_raw[\"dateDT\"][train_val_split]]\n",
    "train_cut = data_train.shape[0]\n",
    "data_val = data_raw.iloc[train_cut:].loc[data_raw[\"dateDT\"] <= data_raw[\"dateDT\"][val_test_split]]\n",
    "val_cut = train_cut + data_val.shape[0]\n",
    "data_test = data_raw.iloc[val_cut:]"
   ]
  },
  {
   "cell_type": "code",
   "execution_count": 11,
   "metadata": {},
   "outputs": [],
   "source": [
    "y_train = y_raw.iloc[:train_cut]\n",
    "y_val = y_raw.iloc[train_cut:val_cut]\n",
    "y_test = y_raw.iloc[val_cut:]"
   ]
  },
  {
   "cell_type": "code",
   "execution_count": 12,
   "metadata": {},
   "outputs": [],
   "source": [
    "feature_all = ['PRC', 'VOL', 'RET']"
   ]
  },
  {
   "cell_type": "markdown",
   "metadata": {},
   "source": [
    "# Descriptive Analysis"
   ]
  },
  {
   "cell_type": "code",
   "execution_count": null,
   "metadata": {},
   "outputs": [],
   "source": []
  },
  {
   "cell_type": "code",
   "execution_count": null,
   "metadata": {},
   "outputs": [],
   "source": []
  },
  {
   "cell_type": "code",
   "execution_count": null,
   "metadata": {},
   "outputs": [],
   "source": []
  },
  {
   "cell_type": "code",
   "execution_count": null,
   "metadata": {},
   "outputs": [],
   "source": []
  },
  {
   "cell_type": "code",
   "execution_count": null,
   "metadata": {},
   "outputs": [],
   "source": []
  },
  {
   "cell_type": "markdown",
   "metadata": {},
   "source": [
    "# Basic Models"
   ]
  },
  {
   "cell_type": "code",
   "execution_count": null,
   "metadata": {},
   "outputs": [],
   "source": []
  }
 ],
 "metadata": {
  "kernelspec": {
   "display_name": "Python 3",
   "language": "python",
   "name": "python3"
  },
  "language_info": {
   "codemirror_mode": {
    "name": "ipython",
    "version": 3
   },
   "file_extension": ".py",
   "mimetype": "text/x-python",
   "name": "python",
   "nbconvert_exporter": "python",
   "pygments_lexer": "ipython3",
   "version": "3.7.4"
  }
 },
 "nbformat": 4,
 "nbformat_minor": 2
}
